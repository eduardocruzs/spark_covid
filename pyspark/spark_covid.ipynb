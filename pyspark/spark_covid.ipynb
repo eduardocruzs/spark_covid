{
 "cells": [
  {
   "cell_type": "markdown",
   "metadata": {},
   "source": [
    "## SPARK_COVID - EDUARDO CRUZ"
   ]
  },
  {
   "cell_type": "markdown",
   "metadata": {},
   "source": [
    "### Projeto para integrar dados públicos da COVID e gerar análises."
   ]
  },
  {
   "cell_type": "code",
   "execution_count": 3,
   "metadata": {},
   "outputs": [],
   "source": [
    "# Importar dependencias:\n",
    "from pyspark.sql.functions import *\n",
    "from pyspark.sql.types import *\n",
    "\n",
    "\n",
    "# Setando configurações para permitir particionamento dinamico.\n",
    "spark.conf.set(\"hive.exec.dynamic.partition\", \"true\")\n",
    "spark.conf.set(\"hive.exec.dynamic.partition.mode\", \"nonstrict\")\n",
    "spark.conf.set(\"spark.hadoop.hive.exec.max.dynamic.partitions\", \"30000\")\n",
    "\n"
   ]
  },
  {
   "cell_type": "code",
   "execution_count": 4,
   "metadata": {},
   "outputs": [],
   "source": [
    "# Criando schema\n",
    "columnsList = [ StructField(\"regiao\", StringType()), \n",
    "               StructField(\"estado\", StringType()), \n",
    "               StructField(\"municipio\", StringType()), \n",
    "               StructField(\"coduf\", StringType()), \n",
    "               StructField(\"codmun\", StringType()), \n",
    "               StructField(\"codRegiaoSaude\", StringType()), \n",
    "               StructField(\"nomeRegiaoSaude\", StringType()), \n",
    "               StructField(\"data\", DateType()), \n",
    "               StructField(\"semanaEpi\", StringType()), \n",
    "               StructField(\"populacaoTCU2019\", LongType()), \n",
    "               StructField(\"casosAcumulado\", LongType()), \n",
    "               StructField(\"casosNovos\", LongType()), \n",
    "               StructField(\"obitosAcumulado\", LongType()), \n",
    "               StructField(\"obitosNovos\", LongType()), \n",
    "               StructField(\"Recuperadosnovos\", LongType()), \n",
    "               StructField(\"emAcompanhamentoNovos\", LongType()), \n",
    "               StructField(\"interiormetropolitana\", StringType())]\n",
    "\n",
    "covidSchema = StructType(columnsList)\n",
    "\n",
    "# Fazendo a leitura do CSV e vinculando o schema criado.\n",
    "covidDF = spark.read.option(\"header\",\"true\").option(\"delimiter\", \";\").schema(covidSchema).csv(\"/user/eduardo/spark_covid/tz/covid/*.csv\")"
   ]
  },
  {
   "cell_type": "code",
   "execution_count": null,
   "metadata": {},
   "outputs": [],
   "source": [
    "# Salvar dados em uma tabela hive particionada por \"municipio\"\n",
    "# Rotina executada com sucesso no spark-shell, porem aqui no pyspark não foi possível alterar o limite de partições, mesmo\n",
    "# após várias tentativas.\n",
    "covidDF.write.mode(\"overwrite\").partitionBy(\"municipio\").format(\"hive\").saveAsTable(\"covid\")\n"
   ]
  },
  {
   "cell_type": "code",
   "execution_count": 5,
   "metadata": {},
   "outputs": [
    {
     "name": "stdout",
     "output_type": "stream",
     "text": [
      "+-----------------+-----------------+\n",
      "|Casos_Recuperados|Em_Acompanhamento|\n",
      "+-----------------+-----------------+\n",
      "|     17,262,646.0|      1,065,477.0|\n",
      "+-----------------+-----------------+\n",
      "\n"
     ]
    }
   ],
   "source": [
    "# Gerando a visualização do Total de:\n",
    "# - Casos Recuperados \n",
    "# - Em Acompanhamento\n",
    "casosRecAcom = covidDF.sort(desc(\"data\")).filter(col(\"regiao\") == \"Brasil\").limit(1).agg(format_number(max(\"Recuperadosnovos\"), 1).alias(\"Casos_Recuperados\"),format_number(max(\"emAcompanhamentoNovos\"),1).alias(\"Em_Acompanhamento\"))\n",
    "casosRecAcom.show()"
   ]
  },
  {
   "cell_type": "code",
   "execution_count": 6,
   "metadata": {
    "scrolled": true
   },
   "outputs": [
    {
     "name": "stdout",
     "output_type": "stream",
     "text": [
      "+----------------+-----------+----------+\n",
      "|Casos_Acumulados|Casos_Novos|Incidencia|\n",
      "+----------------+-----------+----------+\n",
      "|    18,855,015.0|   62,504.0|   8,972.3|\n",
      "+----------------+-----------+----------+\n",
      "\n"
     ]
    }
   ],
   "source": [
    "# Gerando a visualização do Total de:\n",
    "# - Casos Confirmados\n",
    "#  - Acumulado\n",
    "#  - Casos novos \n",
    "#  - Incidência \n",
    "\n",
    "casosConfirmados = covidDF.sort(desc(\"data\")).filter(col(\"regiao\") == \"Brasil\").limit(1).agg(format_number(max(\"casosAcumulado\"),1).alias(\"Casos_Acumulados\"),format_number(max(\"casosNovos\"),1).alias(\"Casos_Novos\"), format_number(sum((col(\"casosAcumulado\") / col(\"populacaoTCU2019\")) * 100000),1).alias(\"Incidencia\"))\n",
    "casosConfirmados.show()\n"
   ]
  },
  {
   "cell_type": "code",
   "execution_count": 7,
   "metadata": {
    "scrolled": true
   },
   "outputs": [
    {
     "name": "stdout",
     "output_type": "stream",
     "text": [
      "+-----------------+------------+----------+-----------+\n",
      "|Obitos_Acumulados|Obitos_Novos|Letalidade|Mortalidade|\n",
      "+-----------------+------------+----------+-----------+\n",
      "|        526,892.0|     1,780.0|       2.8|      250.7|\n",
      "+-----------------+------------+----------+-----------+\n",
      "\n"
     ]
    }
   ],
   "source": [
    "# Gerando a visualização do Total de:\n",
    "# - Óbitos Confirmados\n",
    "#   - Acumulado\n",
    "#   - Casos Novos\n",
    "#   - Letalidade\n",
    "#   - Mortalidade \n",
    "\n",
    "obitosConfirmados = covidDF.sort(desc(\"data\")).filter(col(\"regiao\") == \"Brasil\").limit(1).agg(format_number(max(\"obitosAcumulado\"),1).alias(\"Obitos_Acumulados\"),format_number(max(\"obitosNovos\"),1).alias(\"Obitos_Novos\"), format_number(sum((col(\"obitosAcumulado\") / col(\"casosAcumulado\")) * 100),1).alias(\"Letalidade\"), format_number(sum((col(\"obitosAcumulado\") / col(\"populacaoTCU2019\")) * 100000),1).alias(\"Mortalidade\"))\n",
    "obitosConfirmados.show()\n"
   ]
  },
  {
   "cell_type": "code",
   "execution_count": 8,
   "metadata": {},
   "outputs": [],
   "source": [
    "# Salvando a visualização de Casos Recuperados e Casos em acompanhamento em uma tabela Hive\n",
    "casosRecAcom.write.mode(\"overwrite\").format(\"hive\").saveAsTable(\"casosRecAcom1\")"
   ]
  },
  {
   "cell_type": "code",
   "execution_count": 9,
   "metadata": {},
   "outputs": [
    {
     "name": "stdout",
     "output_type": "stream",
     "text": [
      "Found 1 items\r\n",
      "-rwxrwxr-x   2 root supergroup         25 2021-11-09 00:38 /user/hive/warehouse/casosrecacom1/part-00000-bd624d4c-6a3d-4e59-b7f7-3002122a64d2-c000\r\n"
     ]
    }
   ],
   "source": [
    "!hdfs dfs -ls /user/hive/warehouse/casosrecacom1/"
   ]
  },
  {
   "cell_type": "code",
   "execution_count": 10,
   "metadata": {},
   "outputs": [],
   "source": [
    "# Salvando a visualização de Casos Confirmados em formato parquet e compressão snappy\n",
    "casosConfirmados.write.mode(\"overwrite\").option(\"compression\", \"snappy\").parquet(\"/user/eduardo/casosConfirmados\")"
   ]
  },
  {
   "cell_type": "code",
   "execution_count": 11,
   "metadata": {
    "scrolled": true
   },
   "outputs": [
    {
     "name": "stdout",
     "output_type": "stream",
     "text": [
      "Found 2 items\r\n",
      "-rw-r--r--   2 root supergroup          0 2021-11-09 00:39 /user/eduardo/casosConfirmados/_SUCCESS\r\n",
      "-rw-r--r--   2 root supergroup       1036 2021-11-09 00:39 /user/eduardo/casosConfirmados/part-00000-cb80427e-9775-4216-8bbe-cb469e3949f0-c000.snappy.parquet\r\n"
     ]
    }
   ],
   "source": [
    "!hdfs dfs -ls /user/eduardo/casosConfirmados/"
   ]
  },
  {
   "cell_type": "code",
   "execution_count": 12,
   "metadata": {},
   "outputs": [],
   "source": [
    "# Salvando a visualização de Obitos Confirmados em um topico no KAFKA\n",
    "\n",
    "obitosConfirmados.selectExpr(\"to_json(struct(*)) AS value\").write.format(\"kafka\").option(\"kafka.bootstrap.servers\", \"kafka:9092\").option(\"topic\", \"topic-obitosConfirmados\").save()"
   ]
  },
  {
   "cell_type": "code",
   "execution_count": 13,
   "metadata": {},
   "outputs": [
    {
     "name": "stdout",
     "output_type": "stream",
     "text": [
      "+--------------------+\n",
      "|               value|\n",
      "+--------------------+\n",
      "|{\"Obitos_Acumulad...|\n",
      "|{\"Obitos_Acumulad...|\n",
      "|{\"Obitos_Acumulad...|\n",
      "|{\"Obitos_Acumulad...|\n",
      "|{\"Obitos_Acumulad...|\n",
      "|{\"Obitos_Acumulad...|\n",
      "|{\"Obitos_Acumulad...|\n",
      "|{\"Obitos_Acumulad...|\n",
      "|{\"Obitos_Acumulad...|\n",
      "|{\"Obitos_Acumulad...|\n",
      "|{\"Obitos_Acumulad...|\n",
      "+--------------------+\n",
      "\n"
     ]
    }
   ],
   "source": [
    "# Lendo os dados gravados no Kakfa e exibindo os valores\n",
    "\n",
    "kafka_df = spark \\\n",
    ".read \\\n",
    ".format(\"kafka\") \\\n",
    ".option(\"kafka.bootstrap.servers\", \"kafka:9092\") \\\n",
    ".option(\"subscribe\", \"topic-obitosConfirmados\") \\\n",
    ".option(\"startingOffsets\", \"earliest\") \\\n",
    ".load()\n",
    "\n",
    "topic_string = kafka_df.select(col(\"value\").cast(\"string\"))\n",
    "topic_string.show()\n"
   ]
  },
  {
   "cell_type": "code",
   "execution_count": 14,
   "metadata": {},
   "outputs": [
    {
     "name": "stdout",
     "output_type": "stream",
     "text": [
      "+------+------------+--------------+---------------+----------------+----------+\n",
      "|estado|      regiao|casosAcumulado|obitosAcumulado|populacaoTCU2019|      data|\n",
      "+------+------------+--------------+---------------+----------------+----------+\n",
      "|  null|      Brasil|      18855015|         526892|       210147125|2021-07-06|\n",
      "|    DF|Centro-Oeste|        434708|           9322|         3015268|2021-07-06|\n",
      "|    GO|Centro-Oeste|        686433|          19485|         7018354|2021-07-06|\n",
      "|    MS|Centro-Oeste|        339323|           8400|         2778986|2021-07-06|\n",
      "|    MT|Centro-Oeste|        456155|          12000|         3484466|2021-07-06|\n",
      "|    AL|    Nordeste|        220793|           5450|         3337357|2021-07-06|\n",
      "|    BA|    Nordeste|       1141612|          24428|        14873064|2021-07-06|\n",
      "|    CE|    Nordeste|        894678|          22791|         9132078|2021-07-06|\n",
      "|    MA|    Nordeste|        322052|           9190|         7075181|2021-07-06|\n",
      "|    PB|    Nordeste|        402175|           8724|         4018127|2021-07-06|\n",
      "|    PE|    Nordeste|        561505|          17953|         9557071|2021-07-06|\n",
      "|    PI|    Nordeste|        299084|           6662|         3273227|2021-07-06|\n",
      "|    RN|    Nordeste|        347248|           6853|         3506853|2021-07-06|\n",
      "|    SE|    Nordeste|        266590|           5773|         2298696|2021-07-06|\n",
      "|    AC|       Norte|         85997|           1760|          881935|2021-07-06|\n",
      "|    AM|       Norte|        405066|          13349|         4144597|2021-07-06|\n",
      "|    AP|       Norte|        118066|           1857|          845731|2021-07-06|\n",
      "|    PA|       Norte|        557708|          15624|         8602865|2021-07-06|\n",
      "|    RO|       Norte|        252024|           6226|         1777225|2021-07-06|\n",
      "|    RR|       Norte|        113758|           1763|          605761|2021-07-06|\n",
      "+------+------------+--------------+---------------+----------------+----------+\n",
      "only showing top 20 rows\n",
      "\n"
     ]
    }
   ],
   "source": [
    "# Criar visualização da Sintese dos dados de casos, obitos, incidencia e mortalidade.\n",
    "# - Nessa primeira etapa foi feito o agrupamento por estado e região. \n",
    "sinteseEstados = covidDF.filter(col(\"regiao\").isNotNull()).groupBy(\"estado\", \"regiao\").agg(max(\"casosAcumulado\").alias(\"casosAcumulado\"), max(\"obitosAcumulado\").alias(\"obitosAcumulado\"), max(\"populacaoTCU2019\").alias(\"populacaoTCU2019\"), last(\"data\").alias(\"data\")).sort(asc(\"regiao\"),asc(\"estado\"),desc(\"data\"))\n",
    "sinteseEstados.show()"
   ]
  },
  {
   "cell_type": "code",
   "execution_count": 15,
   "metadata": {},
   "outputs": [
    {
     "name": "stdout",
     "output_type": "stream",
     "text": [
      "+------------+--------+------+---------------+-----------+\n",
      "|      regiao|   Casos|Obitos|populacaoRegiao|Atualizacao|\n",
      "+------------+--------+------+---------------+-----------+\n",
      "|      Brasil|18855015|526892|      210147125| 2021-07-06|\n",
      "|Centro-Oeste| 1916619| 49207|       16297074| 2021-07-06|\n",
      "|    Nordeste| 4455737|107824|       57071654| 2021-07-06|\n",
      "|       Norte| 1732862| 43845|       18430980| 2021-07-06|\n",
      "|     Sudeste| 7138803|245311|       88371433| 2021-07-06|\n",
      "|         Sul| 3611041| 80705|       29975984| 2021-07-06|\n",
      "+------------+--------+------+---------------+-----------+\n",
      "\n"
     ]
    }
   ],
   "source": [
    "# Nessa etapa foi feito o resumo por Região\n",
    "sinteseRegiao = sinteseEstados.groupBy(\"regiao\").agg(sum(\"casosAcumulado\").alias(\"Casos\"), sum(\"obitosAcumulado\").alias(\"Obitos\"), sum(\"populacaoTCU2019\").alias(\"populacaoRegiao\"), last(\"data\").alias(\"Atualizacao\")).sort(asc(\"regiao\"))\n",
    "sinteseRegiao.show()"
   ]
  },
  {
   "cell_type": "code",
   "execution_count": 16,
   "metadata": {},
   "outputs": [
    {
     "name": "stdout",
     "output_type": "stream",
     "text": [
      "+------------+--------+------+---------------+-----------+------------------+------------------+\n",
      "|      regiao|   Casos|Obitos|populacaoRegiao|Atualizacao|        Incidencia|       Mortalidade|\n",
      "+------------+--------+------+---------------+-----------+------------------+------------------+\n",
      "|      Brasil|18855015|526892|      210147125| 2021-07-06| 8972.292625940041|250.72529543290204|\n",
      "|Centro-Oeste| 1916619| 49207|       16297074| 2021-07-06|11760.509892757436| 301.9376361670813|\n",
      "|    Nordeste| 4455737|107824|       57071654| 2021-07-06| 7807.268035371816|188.92741394878797|\n",
      "|       Norte| 1732862| 43845|       18430980| 2021-07-06| 9401.898325536678|237.88751330640042|\n",
      "|     Sudeste| 7138803|245311|       88371433| 2021-07-06| 8078.179517582339| 277.5908363961915|\n",
      "|         Sul| 3611041| 80705|       29975984| 2021-07-06|12046.446915637533| 269.2321960139824|\n",
      "+------------+--------+------+---------------+-----------+------------------+------------------+\n",
      "\n"
     ]
    }
   ],
   "source": [
    "# Nessa é feito o resultado geral, incluindo os cálculos de incidencia e mortalidade.\n",
    "sinteseGeral = sinteseRegiao.withColumn(\"Incidencia\", (col(\"Casos\") / col(\"populacaoRegiao\")) * 100000).withColumn(\"Mortalidade\", (col(\"Obitos\") / col(\"populacaoRegiao\")) * 100000)\n",
    "sinteseGeral.show()"
   ]
  },
  {
   "cell_type": "code",
   "execution_count": 17,
   "metadata": {},
   "outputs": [
    {
     "name": "stdout",
     "output_type": "stream",
     "text": [
      "+------------+------------+---------+----------+-----------+-----------+\n",
      "|      regiao|       Casos|   Obitos|Incidencia|Mortalidade|Atualizacao|\n",
      "+------------+------------+---------+----------+-----------+-----------+\n",
      "|      Brasil|18,855,015.0|526,892.0|   8,972.3|      250.7| 2021-07-06|\n",
      "|Centro-Oeste| 1,916,619.0| 49,207.0|  11,760.5|      301.9| 2021-07-06|\n",
      "|    Nordeste| 4,455,737.0|107,824.0|   7,807.3|      188.9| 2021-07-06|\n",
      "|       Norte| 1,732,862.0| 43,845.0|   9,401.9|      237.9| 2021-07-06|\n",
      "|     Sudeste| 7,138,803.0|245,311.0|   8,078.2|      277.6| 2021-07-06|\n",
      "|         Sul| 3,611,041.0| 80,705.0|  12,046.4|      269.2| 2021-07-06|\n",
      "+------------+------------+---------+----------+-----------+-----------+\n",
      "\n"
     ]
    }
   ],
   "source": [
    "# Para finalizar, nessa etapa foi feita a formatação dos valores para uma melhor leitura. \n",
    "sinteseFinal = sinteseGeral.groupBy(\"regiao\").agg(format_number(last(\"Casos\"),1).alias(\"Casos\"),format_number(last(\"Obitos\"),1).alias(\"Obitos\"),format_number(last(\"Incidencia\"),1).alias(\"Incidencia\"),format_number(last(\"Mortalidade\"),1).alias(\"Mortalidade\"),last(\"Atualizacao\").alias(\"Atualizacao\"))\n",
    "sinteseFinal.show()"
   ]
  }
 ],
 "metadata": {
  "kernelspec": {
   "display_name": "PySpark",
   "language": "python",
   "name": "pyspark"
  },
  "language_info": {
   "codemirror_mode": {
    "name": "ipython",
    "version": 3
   },
   "file_extension": ".py",
   "mimetype": "text/x-python",
   "name": "python",
   "nbconvert_exporter": "python",
   "pygments_lexer": "ipython3",
   "version": "3.6.10"
  }
 },
 "nbformat": 4,
 "nbformat_minor": 2
}
